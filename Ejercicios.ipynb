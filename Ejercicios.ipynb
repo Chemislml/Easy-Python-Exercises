{
 "cells": [
  {
   "cell_type": "markdown",
   "metadata": {},
   "source": [
    "## Notebook de Ejercicios"
   ]
  },
  {
   "cell_type": "markdown",
   "metadata": {},
   "source": [
    "## Libreria para las pruebas (Ejecutar)"
   ]
  },
  {
   "cell_type": "code",
   "execution_count": 1,
   "metadata": {},
   "outputs": [],
   "source": [
    "from tests import test_functions\n",
    "test = test_functions.Function_testing()"
   ]
  },
  {
   "cell_type": "markdown",
   "metadata": {},
   "source": [
    "## Ejercicio 1:\n",
    "\n",
    "Instrucciones: \n",
    "\n",
    "Programa que devuelva la longitud de un texto\n",
    "\n"
   ]
  },
  {
   "cell_type": "code",
   "execution_count": 5,
   "metadata": {},
   "outputs": [],
   "source": [
    "def longitud_texto(texto):\n",
    "    return ...\n"
   ]
  },
  {
   "cell_type": "code",
   "execution_count": null,
   "metadata": {},
   "outputs": [],
   "source": [
    "test.test_excercise_one(longitud_texto(\"Hola Mundo\"), 10)"
   ]
  },
  {
   "cell_type": "markdown",
   "metadata": {},
   "source": [
    "## Ejercicio 2\n",
    "\n",
    "Instrucciones:\n",
    "\n",
    "Program que devuelva la cantidad de palabras que tiene un texto"
   ]
  },
  {
   "cell_type": "code",
   "execution_count": 7,
   "metadata": {},
   "outputs": [],
   "source": [
    "def cantidad_palabras(texto):\n",
    "    return ..."
   ]
  },
  {
   "cell_type": "code",
   "execution_count": null,
   "metadata": {},
   "outputs": [],
   "source": [
    "test.test_excercise_two(cantidad_palabras('Un gusto haberte conocido'), 5)"
   ]
  },
  {
   "cell_type": "markdown",
   "metadata": {},
   "source": [
    "## Ejercicio 3\n",
    "\n",
    "Instrucciones:\n",
    "\n",
    "Programa que devuelve la ultima palabra de un texto"
   ]
  },
  {
   "cell_type": "code",
   "execution_count": 2,
   "metadata": {},
   "outputs": [],
   "source": [
    "def ultima_palabra(texto):\n",
    "    return ..."
   ]
  },
  {
   "cell_type": "code",
   "execution_count": null,
   "metadata": {},
   "outputs": [],
   "source": [
    "# Prueba 1\n",
    "test.test_excercise_three(ultima_palabra('Un gusto haberte conocido'), \"conocido\" , 1)\n",
    "\n",
    "# Prueba 2\n",
    "test.test_excercise_three(ultima_palabra('Es un placer poder ayudarte'), \"ayudarte\", 2)"
   ]
  },
  {
   "cell_type": "markdown",
   "metadata": {},
   "source": [
    "## Ejercicio 4\n",
    "\n",
    "Instrucciones:\n",
    "\n",
    "Programa que devuelve una cadena volteada."
   ]
  },
  {
   "cell_type": "code",
   "execution_count": null,
   "metadata": {},
   "outputs": [],
   "source": [
    "def cadena_volteada(texto):\n",
    "    return ..."
   ]
  },
  {
   "cell_type": "code",
   "execution_count": null,
   "metadata": {},
   "outputs": [],
   "source": [
    "# Prueba 1\n",
    "test.test_excercise_four(cadena_volteada('Un gusto haberte conocido'), 'odiconoc etrebah otsug nU' , 1)\n",
    "\n",
    "# Prueba 2\n",
    "test.test_excercise_four(cadena_volteada('Es un placer poder ayudarte'), 'etraduya redop recalp nu sE', 2)"
   ]
  },
  {
   "cell_type": "markdown",
   "metadata": {},
   "source": [
    "## Ejercicio 5\n",
    "\n",
    "Instrucciones:\n",
    "\n",
    "Programa que cuenta la cantidad de veces que hay un caracter en nuestro texto."
   ]
  },
  {
   "cell_type": "code",
   "execution_count": null,
   "metadata": {},
   "outputs": [],
   "source": [
    "def contar_caracter(texto, caracter):\n",
    "    return ..."
   ]
  },
  {
   "cell_type": "code",
   "execution_count": null,
   "metadata": {},
   "outputs": [],
   "source": [
    "# Prueba 1\n",
    "test.test_excercise_five(contar_caracter('Un gusto haberte conocido', 'e'), 3 , 1)\n",
    "\n",
    "# Prueba 2\n",
    "test.test_excercise_five(contar_caracter('Es un placer poder ayudarte' , 'e'), 2, 2)\n",
    "\n",
    "# Prueba 3\n",
    "test.test_excercise_five(contar_caracter('Es un placer poder ayudarte', 'i'), 4, 2)"
   ]
  },
  {
   "cell_type": "markdown",
   "metadata": {},
   "source": [
    "## Ejercicio 6\n",
    "\n",
    "Instruciones:\n",
    "\n",
    "Programa que verifica si un texto es un palindromo"
   ]
  },
  {
   "cell_type": "code",
   "execution_count": null,
   "metadata": {},
   "outputs": [],
   "source": [
    "def palindromo():\n",
    "    return ..."
   ]
  },
  {
   "cell_type": "code",
   "execution_count": null,
   "metadata": {},
   "outputs": [],
   "source": [
    "# Prueba 1\n",
    "test.test_excercise_six(palindromo('Atar a la rata'), True , 1)\n",
    "\n",
    "# Prueba 2\n",
    "test.test_excercise_six(palindromo('Ella te ama detalle'), False, 2)\n",
    "\n",
    "# Prueba 3\n",
    "test.test_excercise_six(palindromo('Yo hago yoga hoy'), True, 3)"
   ]
  },
  {
   "cell_type": "markdown",
   "metadata": {},
   "source": [
    "## Ejercicio 7\n",
    "\n",
    "Instrucciones:\n",
    "\n",
    "Programa que devuelve en una lista los números que se encuentran en un texto"
   ]
  },
  {
   "cell_type": "code",
   "execution_count": 30,
   "metadata": {},
   "outputs": [],
   "source": [
    "def lista_numeros_texto(texto):\n",
    "    return ..."
   ]
  },
  {
   "cell_type": "code",
   "execution_count": null,
   "metadata": {},
   "outputs": [],
   "source": [
    "# Prueba 1\n",
    "test.test_excercise_seven(lista_numeros_texto('a7b9j36sh49dk40vl37ch68dj59sk'), ['7', '9', '3', '6', '4', '9', '4', '0', '3', '7', '6', '8', '5', '9'] , 1)\n",
    "\n",
    "# Prueba 2\n",
    "test.test_excercise_seven(lista_numeros_texto('g38f7s93js8fj5jf8sj39sj39sj3'), ['3', '8', '7', '9', '3', '8', '5', '8', '3', '9', '3', '9', '3'], 2)\n",
    "\n",
    "# Prueba 3\n",
    "test.test_excercise_seven(lista_numeros_texto('d7fhfs9k2k7sh48fj20fj29djs'), ['7', '9', '2', '7', '4', '8', '2', '0', '2', '9'], 3)"
   ]
  },
  {
   "cell_type": "markdown",
   "metadata": {},
   "source": [
    "## Ejercicio 8:\n",
    "\n",
    "Instrucciones:\n",
    "\n",
    "Programa que devuelva la cantidad de numeros que se encuentran solo 1 vez en la lista\n",
    "\n",
    "Ejemplo1 :\n",
    "| Input | Output |\n",
    "| - | - |\n",
    "| [2,5,7,5,8,7] | 3 |\n",
    "| [1,2,3,4,3,4,5,6,7] | 7 |\n",
    "| [2,4,3,5] | 4 |\n",
    "| [2,3,2] | 2 | \n"
   ]
  },
  {
   "cell_type": "code",
   "execution_count": 57,
   "metadata": {},
   "outputs": [],
   "source": [
    "def cantidad_numeros_1_vez(lista_numeros):\n",
    "    return ..."
   ]
  },
  {
   "cell_type": "code",
   "execution_count": null,
   "metadata": {},
   "outputs": [],
   "source": [
    "# Prueba 1\n",
    "test.test_excercise_eight(cantidad_numeros_1_vez([12,45,23,78,34,12,56,89,34,56,23]), 7,  1)\n",
    "\n",
    "# Prueba 2\n",
    "test.test_excercise_eight(cantidad_numeros_1_vez([2,15,27,14,16,12,14,15,17,23,12,5,16]), 9, 2)\n",
    "\n",
    "# Prueba 3\n",
    "test.test_excercise_eight(cantidad_numeros_1_vez([2,5,7,2,7]), 3, 3)"
   ]
  },
  {
   "cell_type": "markdown",
   "metadata": {},
   "source": [
    "## Ejercicio 9:\n",
    "\n",
    "Instrucciones:\n",
    "\n",
    "Programa que devuelva la suma de los numeros positivos que se encuentra en una lista\n",
    "\n",
    "Ejemplo :\n",
    "\n",
    "[ 5, -4 , 9, 5, -3] | => 5 + 9 + 5 =  19\n",
    "\n",
    "El programa devolveria solo el 19\n",
    "\n",
    "\n",
    "Ejemplos:\n",
    "| Entrada | Salida |\n",
    "| - | - |\n",
    "| [4 , -3, -1 , 5] | 9 |\n",
    "| [-3, 5, -5 , 8, 2] | 15 |"
   ]
  },
  {
   "cell_type": "code",
   "execution_count": null,
   "metadata": {},
   "outputs": [],
   "source": [
    "def suma_numeros_positivos(lista_numeros):\n",
    "    return ..."
   ]
  },
  {
   "cell_type": "code",
   "execution_count": null,
   "metadata": {},
   "outputs": [],
   "source": [
    "# Prueba 1\n",
    "test.test_excercise_nine(suma_numeros_positivos([12,45,23,78,34,12,56,89,34,56,23]), 7,  1)\n",
    "\n",
    "# Prueba 2\n",
    "test.test_excercise_nine(suma_numeros_positivos([2,15,27,14,16,12,14,15,17,23,12,5,16]), 9, 2)\n",
    "\n",
    "# Prueba 3\n",
    "test.test_excercise_nine(suma_numeros_positivos([2,5,7,2,7]), 3, 3)"
   ]
  },
  {
   "cell_type": "markdown",
   "metadata": {},
   "source": [
    "## Ejercicio 10:\n",
    "\n",
    "Instrucciones:\n",
    "\n",
    "Se tienen 2 lista y se desea obtener los numeros de la lista1 que aparezcan en la lista2.\n",
    "(evitar que salgan repetidos en la Salida)\n",
    "\n",
    "Ejemplos:\n",
    "| lista1 | lista2 | Salida |\n",
    "| - | - | - |\n",
    "| [3, 5, 5, 8 ,13 , 15] | [1, 2, 3, 5, 6, 8, 10] | [ 3, 5, 8 ] |\n",
    "| [12, 24, 36, 48 , 60] | [12, 16, 24 ,32 ,40, 48, 54, 64] | [12, 24, 48] |\n",
    "| [1, 2, 3] | [2, 4, 6] | [2] |\n",
    "\n"
   ]
  },
  {
   "cell_type": "code",
   "execution_count": null,
   "metadata": {},
   "outputs": [],
   "source": [
    "def numeros_listas(lista1, lista2):\n",
    "    return ..."
   ]
  },
  {
   "cell_type": "code",
   "execution_count": null,
   "metadata": {},
   "outputs": [],
   "source": [
    "# Prueba 1\n",
    "test.test_excercise_ten(numeros_listas([1,2,6,2,7,3,6,2],[2,5,7]), [2, 7],  1)\n",
    "\n",
    "# Prueba 2\n",
    "test.test_excercise_ten(numeros_listas([15,14,2,15,16,14,6,17,15,5,8],[5,7,12,15,18]), [5, 15], 2)\n",
    "\n",
    "# Prueba 3\n",
    "test.test_excercise_ten(numeros_listas([25,70,45,60,25,20,15,75,100,45,75],[15,30,45,60,85]), [45,60], 3)"
   ]
  },
  {
   "cell_type": "code",
   "execution_count": null,
   "metadata": {},
   "outputs": [],
   "source": []
  },
  {
   "cell_type": "markdown",
   "metadata": {},
   "source": [
    "## Ejemplo 1:\n",
    "\n",
    "Instrucciones: \n",
    "\n",
    "Programa que recibe un número y lo devuelve sumandole 1+"
   ]
  },
  {
   "cell_type": "code",
   "execution_count": null,
   "metadata": {},
   "outputs": [],
   "source": [
    "def suma_numer():\n",
    "    return ..."
   ]
  }
 ],
 "metadata": {
  "interpreter": {
   "hash": "aee8b7b246df8f9039afb4144a1f6fd8d2ca17a180786b69acc140d282b71a49"
  },
  "kernelspec": {
   "display_name": "Python 3.10.4 64-bit",
   "language": "python",
   "name": "python3"
  },
  "language_info": {
   "codemirror_mode": {
    "name": "ipython",
    "version": 3
   },
   "file_extension": ".py",
   "mimetype": "text/x-python",
   "name": "python",
   "nbconvert_exporter": "python",
   "pygments_lexer": "ipython3",
   "version": "3.10.4"
  },
  "orig_nbformat": 4
 },
 "nbformat": 4,
 "nbformat_minor": 2
}
